{
 "cells": [
  {
   "cell_type": "markdown",
   "metadata": {},
   "source": [
    "# Generate Noun Property Ratings\n",
    "\n",
    "This notebook rates all nouns on selected properties and saves to JSON/JSONL.\n",
    "\n",
    "**Output:** \n",
    "- `noun_property_ratings.jsonl` - JSONL format (one JSON object per line)\n",
    "- `noun_property_nested.json` - Nested JSON format (nouns with property objects)"
   ]
  },
  {
   "cell_type": "markdown",
   "metadata": {},
   "source": [
    "## 1. Setup"
   ]
  },
  {
   "cell_type": "code",
   "execution_count": 1,
   "metadata": {},
   "outputs": [
    {
     "name": "stderr",
     "output_type": "stream",
     "text": [
      "/Users/b/Library/Python/3.9/lib/python/site-packages/urllib3/__init__.py:35: NotOpenSSLWarning: urllib3 v2 only supports OpenSSL 1.1.1+, currently the 'ssl' module is compiled with 'LibreSSL 2.8.3'. See: https://github.com/urllib3/urllib3/issues/3020\n",
      "  warnings.warn(\n"
     ]
    }
   ],
   "source": [
    "import torch\n",
    "import pandas as pd\n",
    "from transformers import AutoModelForCausalLM, AutoTokenizer, pipeline\n",
    "from tqdm import tqdm\n",
    "import os\n",
    "import re\n",
    "import json"
   ]
  },
  {
   "cell_type": "markdown",
   "metadata": {},
   "source": [
    "## 2. Configuration"
   ]
  },
  {
   "cell_type": "code",
   "execution_count": 2,
   "metadata": {},
   "outputs": [],
   "source": [
    "# File paths\n",
    "NOUNS_FILE = \"nouns.txt\"\n",
    "PROPERTIES_FILE = \"curated_properties.txt\"  # Use curated_properties.txt for 15 properties\n",
    "OUTPUT_FILE = \"noun_curated_property_ratings.jsonl\"  # JSONL format (one JSON object per line)\n",
    "\n",
    "# How often to save progress\n",
    "SAVE_FREQUENCY = 200"
   ]
  },
  {
   "cell_type": "markdown",
   "metadata": {},
   "source": [
    "## 3. Load Model"
   ]
  },
  {
   "cell_type": "code",
   "execution_count": 3,
   "metadata": {},
   "outputs": [
    {
     "name": "stdout",
     "output_type": "stream",
     "text": [
      "Loading model...\n"
     ]
    },
    {
     "name": "stderr",
     "output_type": "stream",
     "text": [
      "`torch_dtype` is deprecated! Use `dtype` instead!\n"
     ]
    },
    {
     "data": {
      "application/vnd.jupyter.widget-view+json": {
       "model_id": "0a5973e80f8a4cb99ce50163287ec189",
       "version_major": 2,
       "version_minor": 0
      },
      "text/plain": [
       "Loading checkpoint shards:   0%|          | 0/2 [00:00<?, ?it/s]"
      ]
     },
     "metadata": {},
     "output_type": "display_data"
    },
    {
     "name": "stderr",
     "output_type": "stream",
     "text": [
      "Device set to use mps\n",
      "The following generation flags are not valid and may be ignored: ['temperature']. Set `TRANSFORMERS_VERBOSITY=info` for more details.\n"
     ]
    },
    {
     "name": "stdout",
     "output_type": "stream",
     "text": [
      "Model loaded!\n"
     ]
    }
   ],
   "source": [
    "print(\"Loading model...\")\n",
    "\n",
    "model = AutoModelForCausalLM.from_pretrained(\n",
    "    \"microsoft/Phi-3-mini-4k-instruct\",\n",
    "    device_map=\"mps\",  # Change to \"cuda\" for NVIDIA GPU or \"cpu\" for CPU, mps for mac\n",
    "    torch_dtype=\"auto\",\n",
    "    trust_remote_code=False,\n",
    ")\n",
    "\n",
    "tokenizer = AutoTokenizer.from_pretrained(\"microsoft/Phi-3-mini-4k-instruct\")\n",
    "\n",
    "pipe = pipeline(\n",
    "    \"text-generation\",\n",
    "    model=model,\n",
    "    tokenizer=tokenizer,\n",
    "    return_full_text=False,\n",
    "    max_new_tokens=50,\n",
    "    do_sample=False,\n",
    ")\n",
    "\n",
    "print(\"Model loaded!\")"
   ]
  },
  {
   "cell_type": "markdown",
   "metadata": {},
   "source": [
    "## 4. Load Nouns and Properties"
   ]
  },
  {
   "cell_type": "code",
   "execution_count": 4,
   "metadata": {},
   "outputs": [
    {
     "name": "stdout",
     "output_type": "stream",
     "text": [
      "Loaded 1852 nouns\n",
      "Loaded 15 properties\n",
      "Total ratings needed: 27,780\n",
      "Estimated time: 15.4 hours\n"
     ]
    }
   ],
   "source": [
    "# Read nouns\n",
    "with open(NOUNS_FILE, 'r') as f:\n",
    "    nouns = [line.strip() for line in f if line.strip()]\n",
    "\n",
    "# Read properties\n",
    "with open(PROPERTIES_FILE, 'r') as f:\n",
    "    properties = [line.strip() for line in f if line.strip()]\n",
    "\n",
    "print(f\"Loaded {len(nouns)} nouns\")\n",
    "print(f\"Loaded {len(properties)} properties\")\n",
    "print(f\"Total ratings needed: {len(nouns) * len(properties):,}\")\n",
    "print(f\"Estimated time: {len(nouns) * len(properties) * 2 / 3600:.1f} hours\")"
   ]
  },
  {
   "cell_type": "markdown",
   "metadata": {},
   "source": [
    "## 5. Rating Function"
   ]
  },
  {
   "cell_type": "code",
   "execution_count": 5,
   "metadata": {},
   "outputs": [],
   "source": [
    "def rate_noun_on_property(noun, property_name, pipe):\n",
    "    \"\"\"\n",
    "    Rate a noun on a property from 1-10.\n",
    "    Returns -1 if rating extraction fails.\n",
    "    \"\"\"\n",
    "    prompt = f\"\"\"Rate the {property_name} of '{noun}' from 1 to 10.\n",
    "1 = very low {property_name}\n",
    "10 = very high {property_name}\n",
    "Respond with only a number 1-10.\"\"\"\n",
    "    \n",
    "    messages = [{\"role\": \"user\", \"content\": prompt}]\n",
    "    \n",
    "    try:\n",
    "        output = pipe(messages)\n",
    "        response = output[0][\"generated_text\"].strip()\n",
    "        \n",
    "        # Extract number from response\n",
    "        numbers = re.findall(r'\\b([1-9]|10)\\b', response)\n",
    "        if numbers:\n",
    "            rating = int(numbers[0])\n",
    "            if 1 <= rating <= 10:\n",
    "                return rating\n",
    "        \n",
    "        return -1\n",
    "    except Exception as e:\n",
    "        print(f\"Error: {noun} - {property_name}: {str(e)}\")\n",
    "        return -1"
   ]
  },
  {
   "cell_type": "markdown",
   "metadata": {},
   "source": [
    "## 6. Test Rating Function"
   ]
  },
  {
   "cell_type": "code",
   "execution_count": 6,
   "metadata": {},
   "outputs": [
    {
     "name": "stdout",
     "output_type": "stream",
     "text": [
      "Testing...\n",
      "elephant - size: 10/10\n"
     ]
    }
   ],
   "source": [
    "# Quick test\n",
    "print(\"Testing...\")\n",
    "test_rating = rate_noun_on_property(\"elephant\", \"size\", pipe)\n",
    "print(f\"elephant - size: {test_rating}/10\")"
   ]
  },
  {
   "cell_type": "markdown",
   "metadata": {},
   "source": [
    "## 7. Generate All Ratings"
   ]
  },
  {
   "cell_type": "code",
   "execution_count": 7,
   "metadata": {},
   "outputs": [
    {
     "name": "stdout",
     "output_type": "stream",
     "text": [
      "Found 22000 existing ratings\n",
      "Remaining: 5,780 ratings\n",
      "\n",
      "Starting...\n",
      "\n"
     ]
    }
   ],
   "source": [
    "# Check for existing progress\n",
    "if os.path.exists(OUTPUT_FILE):\n",
    "    existing_ratings = []\n",
    "    with open(OUTPUT_FILE, 'r') as f:\n",
    "        for line in f:\n",
    "            existing_ratings.append(json.loads(line))\n",
    "    completed = set((r['noun'], r['property']) for r in existing_ratings)\n",
    "    print(f\"Found {len(existing_ratings)} existing ratings\")\n",
    "else:\n",
    "    existing_ratings = []\n",
    "    completed = set()\n",
    "    print(\"Starting fresh\")\n",
    "\n",
    "# Create list of remaining work\n",
    "all_combinations = [(noun, prop) for noun in nouns for prop in properties]\n",
    "remaining = [combo for combo in all_combinations if combo not in completed]\n",
    "\n",
    "print(f\"Remaining: {len(remaining):,} ratings\")\n",
    "print(\"\\nStarting...\\n\")"
   ]
  },
  {
   "cell_type": "code",
   "execution_count": 8,
   "metadata": {},
   "outputs": [
    {
     "name": "stderr",
     "output_type": "stream",
     "text": [
      "Rating:   3%|▎         | 200/5780 [02:00<1:03:36,  1.46it/s]"
     ]
    },
    {
     "name": "stdout",
     "output_type": "stream",
     "text": [
      "Saved at 200 ratings\n"
     ]
    },
    {
     "name": "stderr",
     "output_type": "stream",
     "text": [
      "Rating:   7%|▋         | 400/5780 [03:38<1:04:05,  1.40it/s]"
     ]
    },
    {
     "name": "stdout",
     "output_type": "stream",
     "text": [
      "Saved at 400 ratings\n"
     ]
    },
    {
     "name": "stderr",
     "output_type": "stream",
     "text": [
      "Rating:  10%|█         | 600/5780 [05:25<42:42,  2.02it/s]  "
     ]
    },
    {
     "name": "stdout",
     "output_type": "stream",
     "text": [
      "Saved at 600 ratings\n"
     ]
    },
    {
     "name": "stderr",
     "output_type": "stream",
     "text": [
      "Rating:  14%|█▍        | 800/5780 [07:23<30:45,  2.70it/s]  "
     ]
    },
    {
     "name": "stdout",
     "output_type": "stream",
     "text": [
      "Saved at 800 ratings\n"
     ]
    },
    {
     "name": "stderr",
     "output_type": "stream",
     "text": [
      "Rating:  17%|█▋        | 1000/5780 [08:55<28:51,  2.76it/s] "
     ]
    },
    {
     "name": "stdout",
     "output_type": "stream",
     "text": [
      "Saved at 1000 ratings\n"
     ]
    },
    {
     "name": "stderr",
     "output_type": "stream",
     "text": [
      "Rating:  21%|██        | 1200/5780 [10:38<35:56,  2.12it/s]  "
     ]
    },
    {
     "name": "stdout",
     "output_type": "stream",
     "text": [
      "Saved at 1200 ratings\n"
     ]
    },
    {
     "name": "stderr",
     "output_type": "stream",
     "text": [
      "Rating:  24%|██▍       | 1400/5780 [12:29<31:38,  2.31it/s]  "
     ]
    },
    {
     "name": "stdout",
     "output_type": "stream",
     "text": [
      "Saved at 1400 ratings\n"
     ]
    },
    {
     "name": "stderr",
     "output_type": "stream",
     "text": [
      "Rating:  28%|██▊       | 1600/5780 [15:12<25:42,  2.71it/s]  "
     ]
    },
    {
     "name": "stdout",
     "output_type": "stream",
     "text": [
      "Saved at 1600 ratings\n"
     ]
    },
    {
     "name": "stderr",
     "output_type": "stream",
     "text": [
      "Rating:  31%|███       | 1800/5780 [16:50<32:57,  2.01it/s]  "
     ]
    },
    {
     "name": "stdout",
     "output_type": "stream",
     "text": [
      "Saved at 1800 ratings\n"
     ]
    },
    {
     "name": "stderr",
     "output_type": "stream",
     "text": [
      "Rating:  35%|███▍      | 2000/5780 [19:10<26:23,  2.39it/s]  "
     ]
    },
    {
     "name": "stdout",
     "output_type": "stream",
     "text": [
      "Saved at 2000 ratings\n"
     ]
    },
    {
     "name": "stderr",
     "output_type": "stream",
     "text": [
      "Rating:  38%|███▊      | 2200/5780 [21:31<1:10:45,  1.19s/it]"
     ]
    },
    {
     "name": "stdout",
     "output_type": "stream",
     "text": [
      "Saved at 2200 ratings\n"
     ]
    },
    {
     "name": "stderr",
     "output_type": "stream",
     "text": [
      "Rating:  42%|████▏     | 2400/5780 [23:22<27:32,  2.05it/s]  "
     ]
    },
    {
     "name": "stdout",
     "output_type": "stream",
     "text": [
      "Saved at 2400 ratings\n"
     ]
    },
    {
     "name": "stderr",
     "output_type": "stream",
     "text": [
      "Rating:  45%|████▍     | 2600/5780 [25:14<23:16,  2.28it/s]  "
     ]
    },
    {
     "name": "stdout",
     "output_type": "stream",
     "text": [
      "Saved at 2600 ratings\n"
     ]
    },
    {
     "name": "stderr",
     "output_type": "stream",
     "text": [
      "Rating:  48%|████▊     | 2800/5780 [27:10<20:41,  2.40it/s]  "
     ]
    },
    {
     "name": "stdout",
     "output_type": "stream",
     "text": [
      "Saved at 2800 ratings\n"
     ]
    },
    {
     "name": "stderr",
     "output_type": "stream",
     "text": [
      "Rating:  52%|█████▏    | 3000/5780 [29:20<30:08,  1.54it/s]  "
     ]
    },
    {
     "name": "stdout",
     "output_type": "stream",
     "text": [
      "Saved at 3000 ratings\n"
     ]
    },
    {
     "name": "stderr",
     "output_type": "stream",
     "text": [
      "Rating:  55%|█████▌    | 3200/5780 [31:30<18:39,  2.30it/s]  "
     ]
    },
    {
     "name": "stdout",
     "output_type": "stream",
     "text": [
      "Saved at 3200 ratings\n"
     ]
    },
    {
     "name": "stderr",
     "output_type": "stream",
     "text": [
      "Rating:  59%|█████▉    | 3400/5780 [33:35<1:09:14,  1.75s/it]"
     ]
    },
    {
     "name": "stdout",
     "output_type": "stream",
     "text": [
      "Saved at 3400 ratings\n"
     ]
    },
    {
     "name": "stderr",
     "output_type": "stream",
     "text": [
      "Rating:  62%|██████▏   | 3600/5780 [35:16<25:21,  1.43it/s]  "
     ]
    },
    {
     "name": "stdout",
     "output_type": "stream",
     "text": [
      "Saved at 3600 ratings\n"
     ]
    },
    {
     "name": "stderr",
     "output_type": "stream",
     "text": [
      "Rating:  66%|██████▌   | 3800/5780 [37:14<13:30,  2.44it/s]  "
     ]
    },
    {
     "name": "stdout",
     "output_type": "stream",
     "text": [
      "Saved at 3800 ratings\n"
     ]
    },
    {
     "name": "stderr",
     "output_type": "stream",
     "text": [
      "Rating:  69%|██████▉   | 4000/5780 [39:42<49:24,  1.67s/it]  "
     ]
    },
    {
     "name": "stdout",
     "output_type": "stream",
     "text": [
      "Saved at 4000 ratings\n"
     ]
    },
    {
     "name": "stderr",
     "output_type": "stream",
     "text": [
      "Rating:  73%|███████▎  | 4200/5780 [41:50<17:10,  1.53it/s]  "
     ]
    },
    {
     "name": "stdout",
     "output_type": "stream",
     "text": [
      "Saved at 4200 ratings\n"
     ]
    },
    {
     "name": "stderr",
     "output_type": "stream",
     "text": [
      "Rating:  76%|███████▌  | 4400/5780 [43:53<09:12,  2.50it/s]  "
     ]
    },
    {
     "name": "stdout",
     "output_type": "stream",
     "text": [
      "Saved at 4400 ratings\n"
     ]
    },
    {
     "name": "stderr",
     "output_type": "stream",
     "text": [
      "Rating:  80%|███████▉  | 4600/5780 [46:42<08:12,  2.39it/s]  "
     ]
    },
    {
     "name": "stdout",
     "output_type": "stream",
     "text": [
      "Saved at 4600 ratings\n"
     ]
    },
    {
     "name": "stderr",
     "output_type": "stream",
     "text": [
      "Rating:  83%|████████▎ | 4800/5780 [48:54<06:39,  2.45it/s]"
     ]
    },
    {
     "name": "stdout",
     "output_type": "stream",
     "text": [
      "Saved at 4800 ratings\n"
     ]
    },
    {
     "name": "stderr",
     "output_type": "stream",
     "text": [
      "Rating:  87%|████████▋ | 5000/5780 [51:51<05:54,  2.20it/s]"
     ]
    },
    {
     "name": "stdout",
     "output_type": "stream",
     "text": [
      "Saved at 5000 ratings\n"
     ]
    },
    {
     "name": "stderr",
     "output_type": "stream",
     "text": [
      "Rating:  90%|████████▉ | 5200/5780 [54:22<05:01,  1.93it/s]"
     ]
    },
    {
     "name": "stdout",
     "output_type": "stream",
     "text": [
      "Saved at 5200 ratings\n"
     ]
    },
    {
     "name": "stderr",
     "output_type": "stream",
     "text": [
      "Rating:  93%|█████████▎| 5400/5780 [57:06<06:20,  1.00s/it]"
     ]
    },
    {
     "name": "stdout",
     "output_type": "stream",
     "text": [
      "Saved at 5400 ratings\n"
     ]
    },
    {
     "name": "stderr",
     "output_type": "stream",
     "text": [
      "Rating:  97%|█████████▋| 5600/5780 [59:28<01:45,  1.71it/s]"
     ]
    },
    {
     "name": "stdout",
     "output_type": "stream",
     "text": [
      "Saved at 5600 ratings\n"
     ]
    },
    {
     "name": "stderr",
     "output_type": "stream",
     "text": [
      "Rating: 100%|██████████| 5780/5780 [1:02:14<00:00,  1.55it/s]"
     ]
    },
    {
     "name": "stdout",
     "output_type": "stream",
     "text": [
      "\n",
      "Done! Saved to noun_curated_property_ratings.jsonl\n"
     ]
    },
    {
     "name": "stderr",
     "output_type": "stream",
     "text": [
      "\n"
     ]
    }
   ],
   "source": [
    "# Main loop\n",
    "results = []\n",
    "\n",
    "for i, (noun, prop) in enumerate(tqdm(remaining, desc=\"Rating\")):\n",
    "    # Get rating\n",
    "    rating = rate_noun_on_property(noun, prop, pipe)\n",
    "    \n",
    "    # Store\n",
    "    results.append({\n",
    "        'noun': noun,\n",
    "        'property': prop,\n",
    "        'rating': rating\n",
    "    })\n",
    "    \n",
    "    # Save periodically\n",
    "    if (i + 1) % SAVE_FREQUENCY == 0:\n",
    "        # Append new results to file\n",
    "        with open(OUTPUT_FILE, 'a') as f:\n",
    "            for result in results:\n",
    "                f.write(json.dumps(result) + '\\n')\n",
    "        results = []\n",
    "        print(f\"Saved at {i + 1} ratings\")\n",
    "\n",
    "# Final save\n",
    "if results:\n",
    "    with open(OUTPUT_FILE, 'a') as f:\n",
    "        for result in results:\n",
    "            f.write(json.dumps(result) + '\\n')\n",
    "\n",
    "print(f\"\\nDone! Saved to {OUTPUT_FILE}\")"
   ]
  },
  {
   "cell_type": "markdown",
   "metadata": {},
   "source": [
    "## 8. View Results"
   ]
  },
  {
   "cell_type": "code",
   "execution_count": 9,
   "metadata": {},
   "outputs": [
    {
     "name": "stdout",
     "output_type": "stream",
     "text": [
      "Total ratings: 27,780\n",
      "Failed ratings: 2000\n",
      "\n",
      "First 20 ratings:\n",
      "{'noun': 'aardvark', 'property': 'size', 'rating': 3}\n",
      "{'noun': 'aardvark', 'property': 'weight', 'rating': 3}\n",
      "{'noun': 'aardvark', 'property': 'naturality', 'rating': 8}\n",
      "{'noun': 'aardvark', 'property': 'edibility', 'rating': 1}\n",
      "{'noun': 'aardvark', 'property': 'intelligence', 'rating': 3}\n",
      "{'noun': 'aardvark', 'property': 'dangerous', 'rating': 1}\n",
      "{'noun': 'aardvark', 'property': 'mobility', 'rating': 3}\n",
      "{'noun': 'aardvark', 'property': 'portability', 'rating': 10}\n",
      "{'noun': 'aardvark', 'property': 'cost', 'rating': 1}\n",
      "{'noun': 'aardvark', 'property': 'hardness', 'rating': 1}\n",
      "{'noun': 'aardvark', 'property': 'temperature', 'rating': 1}\n",
      "{'noun': 'aardvark', 'property': 'loudness', 'rating': 2}\n",
      "{'noun': 'aardvark', 'property': 'usefulness', 'rating': 2}\n",
      "{'noun': 'aardvark', 'property': 'popularity', 'rating': 3}\n",
      "{'noun': 'aardvark', 'property': 'indoor_outdoor', 'rating': 1}\n",
      "{'noun': 'acai', 'property': 'size', 'rating': 3}\n",
      "{'noun': 'acai', 'property': 'weight', 'rating': 3}\n",
      "{'noun': 'acai', 'property': 'naturality', 'rating': 9}\n",
      "{'noun': 'acai', 'property': 'edibility', 'rating': 9}\n",
      "{'noun': 'acai', 'property': 'intelligence', 'rating': -1}\n"
     ]
    }
   ],
   "source": [
    "# Load and display results\n",
    "ratings = []\n",
    "with open(OUTPUT_FILE, 'r') as f:\n",
    "    for line in f:\n",
    "        ratings.append(json.loads(line))\n",
    "\n",
    "print(f\"Total ratings: {len(ratings):,}\")\n",
    "failed = sum(1 for r in ratings if r['rating'] == -1)\n",
    "print(f\"Failed ratings: {failed}\")\n",
    "print(\"\\nFirst 20 ratings:\")\n",
    "for rating in ratings[:20]:\n",
    "    print(rating)"
   ]
  },
  {
   "cell_type": "code",
   "execution_count": 10,
   "metadata": {},
   "outputs": [
    {
     "name": "stdout",
     "output_type": "stream",
     "text": [
      "Also saved nested format to: noun_property_nested.json\n",
      "Structure: 1852 nouns with properties as nested objects\n"
     ]
    }
   ],
   "source": [
    "# Create nested format (optional - easier to work with)\n",
    "# Structure: { noun: { property: rating, ... }, ... }\n",
    "nested = {}\n",
    "for rating in ratings:\n",
    "    if rating['rating'] != -1:  # Skip failed ratings\n",
    "        noun = rating['noun']\n",
    "        if noun not in nested:\n",
    "            nested[noun] = {}\n",
    "        nested[noun][rating['property']] = rating['rating']\n",
    "\n",
    "with open('noun_property_nested.json', 'w') as f:\n",
    "    json.dump(nested, f, indent=2)\n",
    "\n",
    "print(\"Also saved nested format to: noun_property_nested.json\")\n",
    "print(f\"Structure: {len(nested)} nouns with properties as nested objects\")"
   ]
  }
 ],
 "metadata": {
  "kernelspec": {
   "display_name": "Python 3",
   "language": "python",
   "name": "python3"
  },
  "language_info": {
   "codemirror_mode": {
    "name": "ipython",
    "version": 3
   },
   "file_extension": ".py",
   "mimetype": "text/x-python",
   "name": "python",
   "nbconvert_exporter": "python",
   "pygments_lexer": "ipython3",
   "version": "3.9.6"
  }
 },
 "nbformat": 4,
 "nbformat_minor": 2
}
