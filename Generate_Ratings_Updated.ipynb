{
 "cells": [
  {
   "cell_type": "markdown",
   "metadata": {},
   "source": [
    "# Generate Noun Property Ratings (Category-Based)\n",
    "\n",
    "This notebook rates all nouns on their category-specific properties and saves to JSON/JSONL.\n",
    "\n",
    "**Input:**\n",
    "- `categories_tree.json` - Nouns organized by category\n",
    "- `category_properties.json` - Properties for each category\n",
    "\n",
    "**Output:** \n",
    "- `noun_property_ratings.jsonl` - JSONL format (one JSON object per line)\n",
    "- `noun_property_nested.json` - Nested JSON format (nouns with property objects)"
   ]
  },
  {
   "cell_type": "markdown",
   "metadata": {},
   "source": [
    "## 1. Setup"
   ]
  },
  {
   "cell_type": "code",
   "execution_count": 1,
   "metadata": {},
   "outputs": [
    {
     "name": "stderr",
     "output_type": "stream",
     "text": [
      "/Users/b/Library/Python/3.9/lib/python/site-packages/urllib3/__init__.py:35: NotOpenSSLWarning: urllib3 v2 only supports OpenSSL 1.1.1+, currently the 'ssl' module is compiled with 'LibreSSL 2.8.3'. See: https://github.com/urllib3/urllib3/issues/3020\n",
      "  warnings.warn(\n"
     ]
    }
   ],
   "source": [
    "import torch\n",
    "import pandas as pd\n",
    "from transformers import AutoModelForCausalLM, AutoTokenizer, pipeline\n",
    "from tqdm import tqdm\n",
    "import os\n",
    "import re\n",
    "import json"
   ]
  },
  {
   "cell_type": "markdown",
   "metadata": {},
   "source": [
    "## 2. Configuration"
   ]
  },
  {
   "cell_type": "code",
   "execution_count": 2,
   "metadata": {},
   "outputs": [],
   "source": [
    "# File paths\n",
    "CATEGORIES_FILE = \"categories_tree.json\"\n",
    "PROPERTIES_FILE = \"category_properties.json\"\n",
    "OUTPUT_FILE = \"grouped_noun_property_ratings.jsonl\"  # JSONL format (one JSON object per line)\n",
    "\n",
    "# How often to save progress\n",
    "SAVE_FREQUENCY = 200"
   ]
  },
  {
   "cell_type": "markdown",
   "metadata": {},
   "source": [
    "## 3. Load Model"
   ]
  },
  {
   "cell_type": "code",
   "execution_count": 3,
   "metadata": {},
   "outputs": [
    {
     "name": "stdout",
     "output_type": "stream",
     "text": [
      "Loading model...\n"
     ]
    },
    {
     "name": "stderr",
     "output_type": "stream",
     "text": [
      "`torch_dtype` is deprecated! Use `dtype` instead!\n"
     ]
    },
    {
     "data": {
      "application/vnd.jupyter.widget-view+json": {
       "model_id": "c2a3c8d5133a4ef798f69d800fdf0ccd",
       "version_major": 2,
       "version_minor": 0
      },
      "text/plain": [
       "Loading checkpoint shards:   0%|          | 0/2 [00:00<?, ?it/s]"
      ]
     },
     "metadata": {},
     "output_type": "display_data"
    },
    {
     "name": "stderr",
     "output_type": "stream",
     "text": [
      "Device set to use mps\n",
      "The following generation flags are not valid and may be ignored: ['temperature']. Set `TRANSFORMERS_VERBOSITY=info` for more details.\n"
     ]
    },
    {
     "name": "stdout",
     "output_type": "stream",
     "text": [
      "Model loaded!\n"
     ]
    }
   ],
   "source": [
    "print(\"Loading model...\")\n",
    "\n",
    "model = AutoModelForCausalLM.from_pretrained(\n",
    "    \"microsoft/Phi-3-mini-4k-instruct\",\n",
    "    device_map=\"mps\",  # Change to \"cuda\" for NVIDIA GPU or \"cpu\" for CPU, mps for mac\n",
    "    torch_dtype=\"auto\",\n",
    "    trust_remote_code=False,\n",
    ")\n",
    "\n",
    "tokenizer = AutoTokenizer.from_pretrained(\"microsoft/Phi-3-mini-4k-instruct\")\n",
    "\n",
    "pipe = pipeline(\n",
    "    \"text-generation\",\n",
    "    model=model,\n",
    "    tokenizer=tokenizer,\n",
    "    return_full_text=False,\n",
    "    max_new_tokens=50,\n",
    "    do_sample=False,\n",
    ")\n",
    "\n",
    "print(\"Model loaded!\")"
   ]
  },
  {
   "cell_type": "markdown",
   "metadata": {},
   "source": [
    "## 4. Load Categories and Properties"
   ]
  },
  {
   "cell_type": "code",
   "execution_count": 4,
   "metadata": {},
   "outputs": [
    {
     "name": "stdout",
     "output_type": "stream",
     "text": [
      "Loaded 1852 nouns across 20 categories\n",
      "\n",
      "Categories:\n",
      "  Domesticated Mammals: 33 nouns, 10 properties\n",
      "  Wild Mammals: 72 nouns, 10 properties\n",
      "  Reptiles & Amphibians: 51 nouns, 10 properties\n",
      "  Birds, Fish, Insects & Other Animals: 44 nouns, 10 properties\n",
      "  Trees: 12 nouns, 10 properties\n",
      "  Non-Tree Plants: 25 nouns, 10 properties\n",
      "  Fruits: 27 nouns, 10 properties\n",
      "  Other Raw Foods: 16 nouns, 10 properties\n",
      "  Prepared Foods & Meals: 51 nouns, 10 properties\n",
      "  Aircraft: 16 nouns, 10 properties\n",
      "  Motorcycles: 37 nouns, 10 properties\n",
      "  Cars, Trucks, Boats & Other Motorized Vehicles: 65 nouns, 10 properties\n",
      "  Non-Motorized Transportation: 11 nouns, 10 properties\n",
      "  Geological Features & Minerals: 66 nouns, 10 properties\n",
      "  Natural Non-Geological Features: 60 nouns, 10 properties\n",
      "  Buildings & Large Structures: 28 nouns, 10 properties\n",
      "  Handheld Objects & Tools: 78 nouns, 10 properties\n",
      "  Transportation Infrastructure: 19 nouns, 10 properties\n",
      "  Abstract Concepts, Places, People & Activities: 996 nouns, 10 properties\n",
      "  other: 145 nouns, 10 properties\n",
      "\n",
      "Total ratings needed: 18,520\n",
      "Estimated time: 10.3 hours (at 2 sec/rating)\n"
     ]
    }
   ],
   "source": [
    "# Load categories tree\n",
    "with open(CATEGORIES_FILE, 'r') as f:\n",
    "    categories_data = json.load(f)\n",
    "\n",
    "# Load properties for each category\n",
    "with open(PROPERTIES_FILE, 'r') as f:\n",
    "    properties_data = json.load(f)\n",
    "\n",
    "# Extract noun-to-category mapping\n",
    "noun_to_category = {}\n",
    "category_to_nouns = categories_data['Categories']\n",
    "\n",
    "for category, nouns in category_to_nouns.items():\n",
    "    for noun in nouns:\n",
    "        noun_to_category[noun] = category\n",
    "\n",
    "# Get all unique nouns\n",
    "all_nouns = list(noun_to_category.keys())\n",
    "\n",
    "print(f\"Loaded {len(all_nouns)} nouns across {len(category_to_nouns)} categories\")\n",
    "print(f\"\\nCategories:\")\n",
    "for category in category_to_nouns.keys():\n",
    "    noun_count = len(category_to_nouns[category])\n",
    "    #prop_count = len(properties_data['category_properties'][category]['properties'])\n",
    "    prop_count = len(properties_data[category]['properties'])\n",
    "    print(f\"  {category}: {noun_count} nouns, {prop_count} properties\")\n",
    "\n",
    "# Calculate total ratings needed\n",
    "total_ratings = sum(\n",
    "    #len(nouns) * len(properties_data['category_properties'][category]['properties'])\n",
    "    len(nouns) * len(properties_data[category]['properties'])\n",
    "    for category, nouns in category_to_nouns.items()\n",
    ")\n",
    "\n",
    "print(f\"\\nTotal ratings needed: {total_ratings:,}\")\n",
    "print(f\"Estimated time: {total_ratings * 2 / 3600:.1f} hours (at 2 sec/rating)\")"
   ]
  },
  {
   "cell_type": "markdown",
   "metadata": {},
   "source": [
    "## 5. Rating Function"
   ]
  },
  {
   "cell_type": "code",
   "execution_count": 5,
   "metadata": {},
   "outputs": [],
   "source": [
    "def rate_noun_on_property(noun, property_info, pipe):\n",
    "    \"\"\"\n",
    "    Rate a noun on a property from 1-10.\n",
    "    Optimized for microsoft/Phi-3-mini-4k-instruct.\n",
    "    Returns -1 if rating extraction fails.\n",
    "    \"\"\"\n",
    "    property_name = property_info['name']\n",
    "    description = property_info['description']\n",
    "    scale = property_info['scale']\n",
    "    \n",
    "    # Extract scale endpoints\n",
    "    scale_parts = scale.split(' to ')\n",
    "    if len(scale_parts) == 2:\n",
    "        low_end = scale_parts[0].replace('1 ', '').strip('()')\n",
    "        high_end = scale_parts[1].replace('10 ', '').strip('()')\n",
    "    else:\n",
    "        low_end = \"minimum\"\n",
    "        high_end = \"maximum\"\n",
    "    \n",
    "    # Phi-3-mini optimized prompt: short, direct, numbered format\n",
    "    prompt = f\"\"\"Rate \"{noun}\" for: {property_name}\n",
    "{description}\n",
    "\n",
    "Scale:\n",
    "1={low_end}\n",
    "10={high_end}\n",
    "\n",
    "Output only the number 1-10.\"\"\"\n",
    "    \n",
    "    messages = [{\"role\": \"user\", \"content\": prompt}]\n",
    "    \n",
    "    try:\n",
    "        output = pipe(messages)\n",
    "        response = output[0][\"generated_text\"].strip()\n",
    "        \n",
    "        # Extract first valid number from response\n",
    "        numbers = re.findall(r'\\b([1-9]|10)\\b', response)\n",
    "        if numbers:\n",
    "            rating = int(numbers[0])\n",
    "            if 1 <= rating <= 10:\n",
    "                return rating\n",
    "        \n",
    "        return -1\n",
    "    except Exception as e:\n",
    "        print(f\"Error: {noun} - {property_name}: {str(e)}\")\n",
    "        return -1"
   ]
  },
  {
   "cell_type": "markdown",
   "metadata": {},
   "source": [
    "## 6. Test Rating Function"
   ]
  },
  {
   "cell_type": "code",
   "execution_count": 6,
   "metadata": {},
   "outputs": [
    {
     "name": "stdout",
     "output_type": "stream",
     "text": [
      "Testing...\n",
      "airedale terrier - size: 7/10\n",
      "Property description: Physical size of the animal\n",
      "Scale: 1 = very small (hamster, guinea pig), 5 = medium (cat, small dog), 10 = very large (cow, horse)\n"
     ]
    }
   ],
   "source": [
    "# Quick test with a domesticated mammal\n",
    "print(\"Testing...\")\n",
    "test_category = \"Domesticated Mammals\"\n",
    "test_noun = \"elephant\" if \"elephant\" in category_to_nouns.get(test_category, []) else category_to_nouns[test_category][0]\n",
    "#test_property = properties_data['category_properties'][test_category]['properties'][0]\n",
    "test_property = properties_data[test_category]['properties'][0]\n",
    "\n",
    "test_rating = rate_noun_on_property(test_noun, test_property, pipe)\n",
    "print(f\"{test_noun} - {test_property['name']}: {test_rating}/10\")\n",
    "print(f\"Property description: {test_property['description']}\")\n",
    "print(f\"Scale: {test_property['scale']}\")"
   ]
  },
  {
   "cell_type": "markdown",
   "metadata": {},
   "source": [
    "## 7. Generate All Ratings"
   ]
  },
  {
   "cell_type": "code",
   "execution_count": 7,
   "metadata": {},
   "outputs": [
    {
     "name": "stdout",
     "output_type": "stream",
     "text": [
      "Found 2000 existing ratings\n",
      "Remaining: 16,520 ratings\n",
      "\n",
      "Starting...\n",
      "\n"
     ]
    }
   ],
   "source": [
    "# Check for existing progress\n",
    "if os.path.exists(OUTPUT_FILE):\n",
    "    existing_ratings = []\n",
    "    with open(OUTPUT_FILE, 'r') as f:\n",
    "        for line in f:\n",
    "            existing_ratings.append(json.loads(line))\n",
    "    completed = set((r['noun'], r['property']) for r in existing_ratings)\n",
    "    print(f\"Found {len(existing_ratings)} existing ratings\")\n",
    "else:\n",
    "    existing_ratings = []\n",
    "    completed = set()\n",
    "    print(\"Starting fresh\")\n",
    "\n",
    "# Create list of all work (noun, category, property_info)\n",
    "all_combinations = []\n",
    "for category, nouns in category_to_nouns.items():\n",
    "    #properties = properties_data['category_properties'][category]['properties']\n",
    "    properties = properties_data[category]['properties']\n",
    "    for noun in nouns:\n",
    "        for prop_info in properties:\n",
    "            all_combinations.append((noun, category, prop_info))\n",
    "\n",
    "# Filter out completed work\n",
    "remaining = [\n",
    "    combo for combo in all_combinations \n",
    "    if (combo[0], combo[2]['name']) not in completed\n",
    "]\n",
    "\n",
    "print(f\"Remaining: {len(remaining):,} ratings\")\n",
    "print(\"\\nStarting...\\n\")"
   ]
  },
  {
   "cell_type": "code",
   "execution_count": 8,
   "metadata": {},
   "outputs": [
    {
     "name": "stderr",
     "output_type": "stream",
     "text": [
      "Rating:   1%|          | 200/16520 [01:22<1:51:51,  2.43it/s]"
     ]
    },
    {
     "name": "stdout",
     "output_type": "stream",
     "text": [
      "Saved at 200 ratings\n"
     ]
    },
    {
     "name": "stderr",
     "output_type": "stream",
     "text": [
      "Rating:   2%|▏         | 400/16520 [02:52<2:15:27,  1.98it/s]"
     ]
    },
    {
     "name": "stdout",
     "output_type": "stream",
     "text": [
      "Saved at 400 ratings\n"
     ]
    },
    {
     "name": "stderr",
     "output_type": "stream",
     "text": [
      "Rating:   4%|▎         | 600/16520 [04:29<2:10:26,  2.03it/s]"
     ]
    },
    {
     "name": "stdout",
     "output_type": "stream",
     "text": [
      "Saved at 600 ratings\n"
     ]
    },
    {
     "name": "stderr",
     "output_type": "stream",
     "text": [
      "Rating:   5%|▍         | 800/16520 [06:45<2:05:08,  2.09it/s] "
     ]
    },
    {
     "name": "stdout",
     "output_type": "stream",
     "text": [
      "Saved at 800 ratings\n"
     ]
    },
    {
     "name": "stderr",
     "output_type": "stream",
     "text": [
      "Rating:   6%|▌         | 1000/16520 [08:26<2:05:16,  2.06it/s]"
     ]
    },
    {
     "name": "stdout",
     "output_type": "stream",
     "text": [
      "Saved at 1000 ratings\n"
     ]
    },
    {
     "name": "stderr",
     "output_type": "stream",
     "text": [
      "Rating:   7%|▋         | 1200/16520 [10:47<2:05:43,  2.03it/s] "
     ]
    },
    {
     "name": "stdout",
     "output_type": "stream",
     "text": [
      "Saved at 1200 ratings\n"
     ]
    },
    {
     "name": "stderr",
     "output_type": "stream",
     "text": [
      "Rating:   8%|▊         | 1400/16520 [12:28<2:03:47,  2.04it/s]"
     ]
    },
    {
     "name": "stdout",
     "output_type": "stream",
     "text": [
      "Saved at 1400 ratings\n"
     ]
    },
    {
     "name": "stderr",
     "output_type": "stream",
     "text": [
      "Rating:  10%|▉         | 1600/16520 [14:27<2:01:46,  2.04it/s] "
     ]
    },
    {
     "name": "stdout",
     "output_type": "stream",
     "text": [
      "Saved at 1600 ratings\n"
     ]
    },
    {
     "name": "stderr",
     "output_type": "stream",
     "text": [
      "Rating:  11%|█         | 1800/16520 [16:51<2:01:24,  2.02it/s] "
     ]
    },
    {
     "name": "stdout",
     "output_type": "stream",
     "text": [
      "Saved at 1800 ratings\n"
     ]
    },
    {
     "name": "stderr",
     "output_type": "stream",
     "text": [
      "Rating:  12%|█▏        | 2000/16520 [18:33<1:54:50,  2.11it/s]"
     ]
    },
    {
     "name": "stdout",
     "output_type": "stream",
     "text": [
      "Saved at 2000 ratings\n"
     ]
    },
    {
     "name": "stderr",
     "output_type": "stream",
     "text": [
      "Rating:  13%|█▎        | 2200/16520 [20:12<1:54:25,  2.09it/s]"
     ]
    },
    {
     "name": "stdout",
     "output_type": "stream",
     "text": [
      "Saved at 2200 ratings\n"
     ]
    },
    {
     "name": "stderr",
     "output_type": "stream",
     "text": [
      "Rating:  15%|█▍        | 2400/16520 [21:45<1:45:27,  2.23it/s]"
     ]
    },
    {
     "name": "stdout",
     "output_type": "stream",
     "text": [
      "Saved at 2400 ratings\n"
     ]
    },
    {
     "name": "stderr",
     "output_type": "stream",
     "text": [
      "Rating:  16%|█▌        | 2600/16520 [23:27<1:48:21,  2.14it/s]"
     ]
    },
    {
     "name": "stdout",
     "output_type": "stream",
     "text": [
      "Saved at 2600 ratings\n"
     ]
    },
    {
     "name": "stderr",
     "output_type": "stream",
     "text": [
      "Rating:  17%|█▋        | 2800/16520 [24:58<1:43:31,  2.21it/s]"
     ]
    },
    {
     "name": "stdout",
     "output_type": "stream",
     "text": [
      "Saved at 2800 ratings\n"
     ]
    },
    {
     "name": "stderr",
     "output_type": "stream",
     "text": [
      "Rating:  18%|█▊        | 3000/16520 [26:28<1:41:38,  2.22it/s]"
     ]
    },
    {
     "name": "stdout",
     "output_type": "stream",
     "text": [
      "Saved at 3000 ratings\n"
     ]
    },
    {
     "name": "stderr",
     "output_type": "stream",
     "text": [
      "Rating:  19%|█▉        | 3200/16520 [27:58<1:40:28,  2.21it/s]"
     ]
    },
    {
     "name": "stdout",
     "output_type": "stream",
     "text": [
      "Saved at 3200 ratings\n"
     ]
    },
    {
     "name": "stderr",
     "output_type": "stream",
     "text": [
      "Rating:  21%|██        | 3400/16520 [29:33<1:49:23,  2.00it/s]"
     ]
    },
    {
     "name": "stdout",
     "output_type": "stream",
     "text": [
      "Saved at 3400 ratings\n"
     ]
    },
    {
     "name": "stderr",
     "output_type": "stream",
     "text": [
      "Rating:  22%|██▏       | 3600/16520 [31:19<1:40:33,  2.14it/s]"
     ]
    },
    {
     "name": "stdout",
     "output_type": "stream",
     "text": [
      "Saved at 3600 ratings\n"
     ]
    },
    {
     "name": "stderr",
     "output_type": "stream",
     "text": [
      "Rating:  23%|██▎       | 3800/16520 [33:15<1:41:25,  2.09it/s]"
     ]
    },
    {
     "name": "stdout",
     "output_type": "stream",
     "text": [
      "Saved at 3800 ratings\n"
     ]
    },
    {
     "name": "stderr",
     "output_type": "stream",
     "text": [
      "Rating:  24%|██▍       | 4000/16520 [34:52<1:41:01,  2.07it/s]"
     ]
    },
    {
     "name": "stdout",
     "output_type": "stream",
     "text": [
      "Saved at 4000 ratings\n"
     ]
    },
    {
     "name": "stderr",
     "output_type": "stream",
     "text": [
      "Rating:  25%|██▌       | 4200/16520 [36:34<1:41:52,  2.02it/s]"
     ]
    },
    {
     "name": "stdout",
     "output_type": "stream",
     "text": [
      "Saved at 4200 ratings\n"
     ]
    },
    {
     "name": "stderr",
     "output_type": "stream",
     "text": [
      "Rating:  27%|██▋       | 4400/16520 [38:08<1:42:52,  1.96it/s]"
     ]
    },
    {
     "name": "stdout",
     "output_type": "stream",
     "text": [
      "Saved at 4400 ratings\n"
     ]
    },
    {
     "name": "stderr",
     "output_type": "stream",
     "text": [
      "Rating:  28%|██▊       | 4600/16520 [39:43<1:43:55,  1.91it/s]"
     ]
    },
    {
     "name": "stdout",
     "output_type": "stream",
     "text": [
      "Saved at 4600 ratings\n"
     ]
    },
    {
     "name": "stderr",
     "output_type": "stream",
     "text": [
      "Rating:  29%|██▉       | 4800/16520 [41:17<1:37:31,  2.00it/s]"
     ]
    },
    {
     "name": "stdout",
     "output_type": "stream",
     "text": [
      "Saved at 4800 ratings\n"
     ]
    },
    {
     "name": "stderr",
     "output_type": "stream",
     "text": [
      "Rating:  30%|███       | 5000/16520 [42:52<1:28:51,  2.16it/s]"
     ]
    },
    {
     "name": "stdout",
     "output_type": "stream",
     "text": [
      "Saved at 5000 ratings\n"
     ]
    },
    {
     "name": "stderr",
     "output_type": "stream",
     "text": [
      "Rating:  31%|███▏      | 5200/16520 [44:30<1:28:37,  2.13it/s]"
     ]
    },
    {
     "name": "stdout",
     "output_type": "stream",
     "text": [
      "Saved at 5200 ratings\n"
     ]
    },
    {
     "name": "stderr",
     "output_type": "stream",
     "text": [
      "Rating:  33%|███▎      | 5400/16520 [46:10<1:28:06,  2.10it/s]"
     ]
    },
    {
     "name": "stdout",
     "output_type": "stream",
     "text": [
      "Saved at 5400 ratings\n"
     ]
    },
    {
     "name": "stderr",
     "output_type": "stream",
     "text": [
      "Rating:  34%|███▍      | 5600/16520 [48:16<1:25:42,  2.12it/s] "
     ]
    },
    {
     "name": "stdout",
     "output_type": "stream",
     "text": [
      "Saved at 5600 ratings\n"
     ]
    },
    {
     "name": "stderr",
     "output_type": "stream",
     "text": [
      "Rating:  35%|███▌      | 5800/16520 [49:50<1:23:22,  2.14it/s]"
     ]
    },
    {
     "name": "stdout",
     "output_type": "stream",
     "text": [
      "Saved at 5800 ratings\n"
     ]
    },
    {
     "name": "stderr",
     "output_type": "stream",
     "text": [
      "Rating:  36%|███▋      | 6000/16520 [51:26<1:20:17,  2.18it/s]"
     ]
    },
    {
     "name": "stdout",
     "output_type": "stream",
     "text": [
      "Saved at 6000 ratings\n"
     ]
    },
    {
     "name": "stderr",
     "output_type": "stream",
     "text": [
      "Rating:  38%|███▊      | 6200/16520 [53:02<1:18:22,  2.19it/s]"
     ]
    },
    {
     "name": "stdout",
     "output_type": "stream",
     "text": [
      "Saved at 6200 ratings\n"
     ]
    },
    {
     "name": "stderr",
     "output_type": "stream",
     "text": [
      "Rating:  39%|███▊      | 6400/16520 [54:43<1:15:47,  2.23it/s]"
     ]
    },
    {
     "name": "stdout",
     "output_type": "stream",
     "text": [
      "Saved at 6400 ratings\n"
     ]
    },
    {
     "name": "stderr",
     "output_type": "stream",
     "text": [
      "Rating:  40%|███▉      | 6600/16520 [56:23<1:15:05,  2.20it/s]"
     ]
    },
    {
     "name": "stdout",
     "output_type": "stream",
     "text": [
      "Saved at 6600 ratings\n"
     ]
    },
    {
     "name": "stderr",
     "output_type": "stream",
     "text": [
      "Rating:  41%|████      | 6800/16520 [58:20<3:46:26,  1.40s/it]"
     ]
    },
    {
     "name": "stdout",
     "output_type": "stream",
     "text": [
      "Saved at 6800 ratings\n"
     ]
    },
    {
     "name": "stderr",
     "output_type": "stream",
     "text": [
      "Rating:  42%|████▏     | 7000/16520 [1:00:03<1:12:31,  2.19it/s]"
     ]
    },
    {
     "name": "stdout",
     "output_type": "stream",
     "text": [
      "Saved at 7000 ratings\n"
     ]
    },
    {
     "name": "stderr",
     "output_type": "stream",
     "text": [
      "Rating:  44%|████▎     | 7200/16520 [1:01:47<1:10:15,  2.21it/s]"
     ]
    },
    {
     "name": "stdout",
     "output_type": "stream",
     "text": [
      "Saved at 7200 ratings\n"
     ]
    },
    {
     "name": "stderr",
     "output_type": "stream",
     "text": [
      "Rating:  45%|████▍     | 7400/16520 [1:03:41<1:12:45,  2.09it/s]"
     ]
    },
    {
     "name": "stdout",
     "output_type": "stream",
     "text": [
      "Saved at 7400 ratings\n"
     ]
    },
    {
     "name": "stderr",
     "output_type": "stream",
     "text": [
      "Rating:  46%|████▌     | 7600/16520 [1:05:20<1:08:04,  2.18it/s]"
     ]
    },
    {
     "name": "stdout",
     "output_type": "stream",
     "text": [
      "Saved at 7600 ratings\n"
     ]
    },
    {
     "name": "stderr",
     "output_type": "stream",
     "text": [
      "Rating:  47%|████▋     | 7800/16520 [1:07:04<1:06:45,  2.18it/s]"
     ]
    },
    {
     "name": "stdout",
     "output_type": "stream",
     "text": [
      "Saved at 7800 ratings\n"
     ]
    },
    {
     "name": "stderr",
     "output_type": "stream",
     "text": [
      "Rating:  48%|████▊     | 8000/16520 [1:08:56<1:05:29,  2.17it/s]"
     ]
    },
    {
     "name": "stdout",
     "output_type": "stream",
     "text": [
      "Saved at 8000 ratings\n"
     ]
    },
    {
     "name": "stderr",
     "output_type": "stream",
     "text": [
      "Rating:  50%|████▉     | 8200/16520 [1:10:51<3:16:59,  1.42s/it]"
     ]
    },
    {
     "name": "stdout",
     "output_type": "stream",
     "text": [
      "Saved at 8200 ratings\n"
     ]
    },
    {
     "name": "stderr",
     "output_type": "stream",
     "text": [
      "Rating:  51%|█████     | 8400/16520 [1:12:42<6:00:11,  2.66s/it]"
     ]
    },
    {
     "name": "stdout",
     "output_type": "stream",
     "text": [
      "Saved at 8400 ratings\n"
     ]
    },
    {
     "name": "stderr",
     "output_type": "stream",
     "text": [
      "Rating:  52%|█████▏    | 8600/16520 [1:14:15<1:00:17,  2.19it/s]"
     ]
    },
    {
     "name": "stdout",
     "output_type": "stream",
     "text": [
      "Saved at 8600 ratings\n"
     ]
    },
    {
     "name": "stderr",
     "output_type": "stream",
     "text": [
      "Rating:  53%|█████▎    | 8800/16520 [1:15:48<1:00:13,  2.14it/s]"
     ]
    },
    {
     "name": "stdout",
     "output_type": "stream",
     "text": [
      "Saved at 8800 ratings\n"
     ]
    },
    {
     "name": "stderr",
     "output_type": "stream",
     "text": [
      "Rating:  54%|█████▍    | 9000/16520 [1:17:36<58:28,  2.14it/s]  "
     ]
    },
    {
     "name": "stdout",
     "output_type": "stream",
     "text": [
      "Saved at 9000 ratings\n"
     ]
    },
    {
     "name": "stderr",
     "output_type": "stream",
     "text": [
      "Rating:  56%|█████▌    | 9200/16520 [1:19:28<56:13,  2.17it/s]  "
     ]
    },
    {
     "name": "stdout",
     "output_type": "stream",
     "text": [
      "Saved at 9200 ratings\n"
     ]
    },
    {
     "name": "stderr",
     "output_type": "stream",
     "text": [
      "Rating:  57%|█████▋    | 9400/16520 [1:21:22<53:51,  2.20it/s]  "
     ]
    },
    {
     "name": "stdout",
     "output_type": "stream",
     "text": [
      "Saved at 9400 ratings\n"
     ]
    },
    {
     "name": "stderr",
     "output_type": "stream",
     "text": [
      "Rating:  58%|█████▊    | 9600/16520 [1:22:56<55:30,  2.08it/s]  "
     ]
    },
    {
     "name": "stdout",
     "output_type": "stream",
     "text": [
      "Saved at 9600 ratings\n"
     ]
    },
    {
     "name": "stderr",
     "output_type": "stream",
     "text": [
      "Rating:  59%|█████▉    | 9800/16520 [1:24:43<2:35:24,  1.39s/it]"
     ]
    },
    {
     "name": "stdout",
     "output_type": "stream",
     "text": [
      "Saved at 9800 ratings\n"
     ]
    },
    {
     "name": "stderr",
     "output_type": "stream",
     "text": [
      "Rating:  61%|██████    | 10000/16520 [1:26:26<49:23,  2.20it/s] "
     ]
    },
    {
     "name": "stdout",
     "output_type": "stream",
     "text": [
      "Saved at 10000 ratings\n"
     ]
    },
    {
     "name": "stderr",
     "output_type": "stream",
     "text": [
      "Rating:  62%|██████▏   | 10200/16520 [1:28:05<46:46,  2.25it/s]  "
     ]
    },
    {
     "name": "stdout",
     "output_type": "stream",
     "text": [
      "Saved at 10200 ratings\n"
     ]
    },
    {
     "name": "stderr",
     "output_type": "stream",
     "text": [
      "Rating:  63%|██████▎   | 10400/16520 [1:29:43<45:28,  2.24it/s]  "
     ]
    },
    {
     "name": "stdout",
     "output_type": "stream",
     "text": [
      "Saved at 10400 ratings\n"
     ]
    },
    {
     "name": "stderr",
     "output_type": "stream",
     "text": [
      "Rating:  64%|██████▍   | 10600/16520 [1:31:13<44:28,  2.22it/s]"
     ]
    },
    {
     "name": "stdout",
     "output_type": "stream",
     "text": [
      "Saved at 10600 ratings\n"
     ]
    },
    {
     "name": "stderr",
     "output_type": "stream",
     "text": [
      "Rating:  65%|██████▌   | 10800/16520 [1:32:52<42:59,  2.22it/s]  "
     ]
    },
    {
     "name": "stdout",
     "output_type": "stream",
     "text": [
      "Saved at 10800 ratings\n"
     ]
    },
    {
     "name": "stderr",
     "output_type": "stream",
     "text": [
      "Rating:  67%|██████▋   | 11000/16520 [1:34:24<42:22,  2.17it/s]"
     ]
    },
    {
     "name": "stdout",
     "output_type": "stream",
     "text": [
      "Saved at 11000 ratings\n"
     ]
    },
    {
     "name": "stderr",
     "output_type": "stream",
     "text": [
      "Rating:  68%|██████▊   | 11200/16520 [1:36:06<43:19,  2.05it/s]  "
     ]
    },
    {
     "name": "stdout",
     "output_type": "stream",
     "text": [
      "Saved at 11200 ratings\n"
     ]
    },
    {
     "name": "stderr",
     "output_type": "stream",
     "text": [
      "Rating:  69%|██████▉   | 11400/16520 [1:37:51<39:06,  2.18it/s]  "
     ]
    },
    {
     "name": "stdout",
     "output_type": "stream",
     "text": [
      "Saved at 11400 ratings\n"
     ]
    },
    {
     "name": "stderr",
     "output_type": "stream",
     "text": [
      "Rating:  70%|███████   | 11600/16520 [1:39:23<40:07,  2.04it/s]"
     ]
    },
    {
     "name": "stdout",
     "output_type": "stream",
     "text": [
      "Saved at 11600 ratings\n"
     ]
    },
    {
     "name": "stderr",
     "output_type": "stream",
     "text": [
      "Rating:  71%|███████▏  | 11800/16520 [1:41:13<56:20,  1.40it/s]  "
     ]
    },
    {
     "name": "stdout",
     "output_type": "stream",
     "text": [
      "Saved at 11800 ratings\n"
     ]
    },
    {
     "name": "stderr",
     "output_type": "stream",
     "text": [
      "Rating:  73%|███████▎  | 12000/16520 [1:42:54<36:37,  2.06it/s]  "
     ]
    },
    {
     "name": "stdout",
     "output_type": "stream",
     "text": [
      "Saved at 12000 ratings\n"
     ]
    },
    {
     "name": "stderr",
     "output_type": "stream",
     "text": [
      "Rating:  74%|███████▍  | 12200/16520 [1:44:35<34:35,  2.08it/s]  "
     ]
    },
    {
     "name": "stdout",
     "output_type": "stream",
     "text": [
      "Saved at 12200 ratings\n"
     ]
    },
    {
     "name": "stderr",
     "output_type": "stream",
     "text": [
      "Rating:  75%|███████▌  | 12400/16520 [1:46:25<33:27,  2.05it/s]  "
     ]
    },
    {
     "name": "stdout",
     "output_type": "stream",
     "text": [
      "Saved at 12400 ratings\n"
     ]
    },
    {
     "name": "stderr",
     "output_type": "stream",
     "text": [
      "Rating:  76%|███████▋  | 12600/16520 [1:47:58<31:40,  2.06it/s]"
     ]
    },
    {
     "name": "stdout",
     "output_type": "stream",
     "text": [
      "Saved at 12600 ratings\n"
     ]
    },
    {
     "name": "stderr",
     "output_type": "stream",
     "text": [
      "Rating:  77%|███████▋  | 12800/16520 [1:49:33<27:27,  2.26it/s]  "
     ]
    },
    {
     "name": "stdout",
     "output_type": "stream",
     "text": [
      "Saved at 12800 ratings\n"
     ]
    },
    {
     "name": "stderr",
     "output_type": "stream",
     "text": [
      "Rating:  79%|███████▊  | 13000/16520 [1:51:44<27:46,  2.11it/s]  "
     ]
    },
    {
     "name": "stdout",
     "output_type": "stream",
     "text": [
      "Saved at 13000 ratings\n"
     ]
    },
    {
     "name": "stderr",
     "output_type": "stream",
     "text": [
      "Rating:  80%|███████▉  | 13200/16520 [1:53:14<24:53,  2.22it/s]"
     ]
    },
    {
     "name": "stdout",
     "output_type": "stream",
     "text": [
      "Saved at 13200 ratings\n"
     ]
    },
    {
     "name": "stderr",
     "output_type": "stream",
     "text": [
      "Rating:  81%|████████  | 13400/16520 [1:55:13<2:46:08,  3.20s/it]"
     ]
    },
    {
     "name": "stdout",
     "output_type": "stream",
     "text": [
      "Saved at 13400 ratings\n"
     ]
    },
    {
     "name": "stderr",
     "output_type": "stream",
     "text": [
      "Rating:  82%|████████▏ | 13600/16520 [1:56:47<21:12,  2.29it/s]  "
     ]
    },
    {
     "name": "stdout",
     "output_type": "stream",
     "text": [
      "Saved at 13600 ratings\n"
     ]
    },
    {
     "name": "stderr",
     "output_type": "stream",
     "text": [
      "Rating:  84%|████████▎ | 13800/16520 [1:58:16<19:41,  2.30it/s]"
     ]
    },
    {
     "name": "stdout",
     "output_type": "stream",
     "text": [
      "Saved at 13800 ratings\n"
     ]
    },
    {
     "name": "stderr",
     "output_type": "stream",
     "text": [
      "Rating:  85%|████████▍ | 14000/16520 [1:59:49<18:55,  2.22it/s]  "
     ]
    },
    {
     "name": "stdout",
     "output_type": "stream",
     "text": [
      "Saved at 14000 ratings\n"
     ]
    },
    {
     "name": "stderr",
     "output_type": "stream",
     "text": [
      "Rating:  86%|████████▌ | 14200/16520 [2:01:40<17:02,  2.27it/s]  "
     ]
    },
    {
     "name": "stdout",
     "output_type": "stream",
     "text": [
      "Saved at 14200 ratings\n"
     ]
    },
    {
     "name": "stderr",
     "output_type": "stream",
     "text": [
      "Rating:  87%|████████▋ | 14400/16520 [2:03:10<15:52,  2.23it/s]"
     ]
    },
    {
     "name": "stdout",
     "output_type": "stream",
     "text": [
      "Saved at 14400 ratings\n"
     ]
    },
    {
     "name": "stderr",
     "output_type": "stream",
     "text": [
      "Rating:  88%|████████▊ | 14600/16520 [2:04:49<14:47,  2.16it/s]  "
     ]
    },
    {
     "name": "stdout",
     "output_type": "stream",
     "text": [
      "Saved at 14600 ratings\n"
     ]
    },
    {
     "name": "stderr",
     "output_type": "stream",
     "text": [
      "Rating:  90%|████████▉ | 14800/16520 [2:06:59<41:22,  1.44s/it]  "
     ]
    },
    {
     "name": "stdout",
     "output_type": "stream",
     "text": [
      "Saved at 14800 ratings\n"
     ]
    },
    {
     "name": "stderr",
     "output_type": "stream",
     "text": [
      "Rating:  91%|█████████ | 15000/16520 [2:08:45<11:54,  2.13it/s]"
     ]
    },
    {
     "name": "stdout",
     "output_type": "stream",
     "text": [
      "Saved at 15000 ratings\n"
     ]
    },
    {
     "name": "stderr",
     "output_type": "stream",
     "text": [
      "Rating:  92%|█████████▏| 15200/16520 [2:10:40<12:21,  1.78it/s]"
     ]
    },
    {
     "name": "stdout",
     "output_type": "stream",
     "text": [
      "Saved at 15200 ratings\n"
     ]
    },
    {
     "name": "stderr",
     "output_type": "stream",
     "text": [
      "Rating:  93%|█████████▎| 15400/16520 [2:12:34<10:47,  1.73it/s]"
     ]
    },
    {
     "name": "stdout",
     "output_type": "stream",
     "text": [
      "Saved at 15400 ratings\n"
     ]
    },
    {
     "name": "stderr",
     "output_type": "stream",
     "text": [
      "Rating:  94%|█████████▍| 15600/16520 [2:14:26<09:01,  1.70it/s]"
     ]
    },
    {
     "name": "stdout",
     "output_type": "stream",
     "text": [
      "Saved at 15600 ratings\n"
     ]
    },
    {
     "name": "stderr",
     "output_type": "stream",
     "text": [
      "Rating:  96%|█████████▌| 15800/16520 [2:16:17<06:37,  1.81it/s]"
     ]
    },
    {
     "name": "stdout",
     "output_type": "stream",
     "text": [
      "Saved at 15800 ratings\n"
     ]
    },
    {
     "name": "stderr",
     "output_type": "stream",
     "text": [
      "Rating:  97%|█████████▋| 16000/16520 [2:18:08<04:50,  1.79it/s]"
     ]
    },
    {
     "name": "stdout",
     "output_type": "stream",
     "text": [
      "Saved at 16000 ratings\n"
     ]
    },
    {
     "name": "stderr",
     "output_type": "stream",
     "text": [
      "Rating:  98%|█████████▊| 16200/16520 [2:19:59<02:51,  1.86it/s]"
     ]
    },
    {
     "name": "stdout",
     "output_type": "stream",
     "text": [
      "Saved at 16200 ratings\n"
     ]
    },
    {
     "name": "stderr",
     "output_type": "stream",
     "text": [
      "Rating:  99%|█████████▉| 16400/16520 [2:21:47<01:10,  1.70it/s]"
     ]
    },
    {
     "name": "stdout",
     "output_type": "stream",
     "text": [
      "Saved at 16400 ratings\n"
     ]
    },
    {
     "name": "stderr",
     "output_type": "stream",
     "text": [
      "Rating: 100%|██████████| 16520/16520 [2:22:53<00:00,  1.93it/s]"
     ]
    },
    {
     "name": "stdout",
     "output_type": "stream",
     "text": [
      "\n",
      "Done! Saved to grouped_noun_property_ratings.jsonl\n"
     ]
    },
    {
     "name": "stderr",
     "output_type": "stream",
     "text": [
      "\n"
     ]
    }
   ],
   "source": [
    "# Main loop\n",
    "results = []\n",
    "\n",
    "for i, (noun, category, prop_info) in enumerate(tqdm(remaining, desc=\"Rating\")):\n",
    "    # Get rating\n",
    "    rating = rate_noun_on_property(noun, prop_info, pipe)\n",
    "    \n",
    "    # Store\n",
    "    results.append({\n",
    "        'noun': noun,\n",
    "        'category': category,\n",
    "        'property': prop_info['name'],\n",
    "        'rating': rating\n",
    "    })\n",
    "    \n",
    "    # Save periodically\n",
    "    if (i + 1) % SAVE_FREQUENCY == 0:\n",
    "        # Append new results to file\n",
    "        with open(OUTPUT_FILE, 'a') as f:\n",
    "            for result in results:\n",
    "                f.write(json.dumps(result) + '\\n')\n",
    "        results = []\n",
    "        print(f\"Saved at {i + 1} ratings\")\n",
    "\n",
    "# Final save\n",
    "if results:\n",
    "    with open(OUTPUT_FILE, 'a') as f:\n",
    "        for result in results:\n",
    "            f.write(json.dumps(result) + '\\n')\n",
    "\n",
    "print(f\"\\nDone! Saved to {OUTPUT_FILE}\")"
   ]
  },
  {
   "cell_type": "markdown",
   "metadata": {},
   "source": [
    "## 8. View Results"
   ]
  },
  {
   "cell_type": "code",
   "execution_count": 9,
   "metadata": {},
   "outputs": [
    {
     "name": "stdout",
     "output_type": "stream",
     "text": [
      "Total ratings: 18,520\n",
      "Failed ratings: 6\n",
      "Success rate: 100.0%\n",
      "\n",
      "First 20 ratings:\n",
      "{'noun': 'airedale terrier', 'category': 'Domesticated Mammals', 'property': 'size', 'rating': 7}\n",
      "{'noun': 'airedale terrier', 'category': 'Domesticated Mammals', 'property': 'commonness_as_pet', 'rating': 8}\n",
      "{'noun': 'airedale terrier', 'category': 'Domesticated Mammals', 'property': 'energy_level', 'rating': 8}\n",
      "{'noun': 'airedale terrier', 'category': 'Domesticated Mammals', 'property': 'grooming_needs', 'rating': 7}\n",
      "{'noun': 'airedale terrier', 'category': 'Domesticated Mammals', 'property': 'intelligence_trainability', 'rating': 8}\n",
      "{'noun': 'airedale terrier', 'category': 'Domesticated Mammals', 'property': 'vocalization_level', 'rating': 7}\n",
      "{'noun': 'airedale terrier', 'category': 'Domesticated Mammals', 'property': 'lifespan', 'rating': 8}\n",
      "{'noun': 'airedale terrier', 'category': 'Domesticated Mammals', 'property': 'indoor_suitability', 'rating': 8}\n",
      "{'noun': 'airedale terrier', 'category': 'Domesticated Mammals', 'property': 'playfulness', 'rating': 9}\n",
      "{'noun': 'airedale terrier', 'category': 'Domesticated Mammals', 'property': 'care_difficulty', 'rating': 5}\n",
      "{'noun': 'akita', 'category': 'Domesticated Mammals', 'property': 'size', 'rating': 7}\n",
      "{'noun': 'akita', 'category': 'Domesticated Mammals', 'property': 'commonness_as_pet', 'rating': 9}\n",
      "{'noun': 'akita', 'category': 'Domesticated Mammals', 'property': 'energy_level', 'rating': 8}\n",
      "{'noun': 'akita', 'category': 'Domesticated Mammals', 'property': 'grooming_needs', 'rating': 8}\n",
      "{'noun': 'akita', 'category': 'Domesticated Mammals', 'property': 'intelligence_trainability', 'rating': 8}\n",
      "{'noun': 'akita', 'category': 'Domesticated Mammals', 'property': 'vocalization_level', 'rating': 7}\n",
      "{'noun': 'akita', 'category': 'Domesticated Mammals', 'property': 'lifespan', 'rating': 10}\n",
      "{'noun': 'akita', 'category': 'Domesticated Mammals', 'property': 'indoor_suitability', 'rating': 8}\n",
      "{'noun': 'akita', 'category': 'Domesticated Mammals', 'property': 'playfulness', 'rating': 8}\n",
      "{'noun': 'akita', 'category': 'Domesticated Mammals', 'property': 'care_difficulty', 'rating': 8}\n"
     ]
    }
   ],
   "source": [
    "# Load and display results\n",
    "ratings = []\n",
    "with open(OUTPUT_FILE, 'r') as f:\n",
    "    for line in f:\n",
    "        ratings.append(json.loads(line))\n",
    "\n",
    "print(f\"Total ratings: {len(ratings):,}\")\n",
    "failed = sum(1 for r in ratings if r['rating'] == -1)\n",
    "print(f\"Failed ratings: {failed}\")\n",
    "print(f\"Success rate: {(len(ratings) - failed) / len(ratings) * 100:.1f}%\")\n",
    "\n",
    "print(\"\\nFirst 20 ratings:\")\n",
    "for rating in ratings[:20]:\n",
    "    print(rating)"
   ]
  },
  {
   "cell_type": "code",
   "execution_count": 10,
   "metadata": {},
   "outputs": [
    {
     "name": "stdout",
     "output_type": "stream",
     "text": [
      "Also saved nested format to: noun_property_nested.json\n",
      "Structure: 1852 nouns with category and properties as nested objects\n"
     ]
    }
   ],
   "source": [
    "# Create nested format (optional - easier to work with)\n",
    "# Structure: { noun: { category: str, properties: { property: rating, ... } }, ... }\n",
    "nested = {}\n",
    "for rating in ratings:\n",
    "    if rating['rating'] != -1:  # Skip failed ratings\n",
    "        noun = rating['noun']\n",
    "        if noun not in nested:\n",
    "            nested[noun] = {\n",
    "                'category': rating['category'],\n",
    "                'properties': {}\n",
    "            }\n",
    "        nested[noun]['properties'][rating['property']] = rating['rating']\n",
    "\n",
    "with open('noun_property_nested.json', 'w') as f:\n",
    "    json.dump(nested, f, indent=2)\n",
    "\n",
    "print(\"Also saved nested format to: noun_property_nested.json\")\n",
    "print(f\"Structure: {len(nested)} nouns with category and properties as nested objects\")"
   ]
  },
  {
   "cell_type": "markdown",
   "metadata": {},
   "source": [
    "## 9. Summary Statistics by Category"
   ]
  },
  {
   "cell_type": "code",
   "execution_count": 11,
   "metadata": {},
   "outputs": [
    {
     "name": "stdout",
     "output_type": "stream",
     "text": [
      "\n",
      "Statistics by Category:\n",
      "Category                                      Total      Failed     Success Rate   \n",
      "================================================================================\n",
      "Abstract Concepts, Places, People & Activities 9960       2          100.0          %\n",
      "Aircraft                                      160        0          100.0          %\n",
      "Birds, Fish, Insects & Other Animals          440        0          100.0          %\n",
      "Buildings & Large Structures                  280        0          100.0          %\n",
      "Cars, Trucks, Boats & Other Motorized Vehicles 650        0          100.0          %\n",
      "Domesticated Mammals                          330        3          99.1           %\n",
      "Fruits                                        270        0          100.0          %\n",
      "Geological Features & Minerals                660        0          100.0          %\n",
      "Handheld Objects & Tools                      780        0          100.0          %\n",
      "Motorcycles                                   370        1          99.7           %\n",
      "Natural Non-Geological Features               600        0          100.0          %\n",
      "Non-Motorized Transportation                  110        0          100.0          %\n",
      "Non-Tree Plants                               250        0          100.0          %\n",
      "Other Raw Foods                               160        0          100.0          %\n",
      "Prepared Foods & Meals                        510        0          100.0          %\n",
      "Reptiles & Amphibians                         510        0          100.0          %\n",
      "Transportation Infrastructure                 190        0          100.0          %\n",
      "Trees                                         120        0          100.0          %\n",
      "Wild Mammals                                  720        0          100.0          %\n",
      "other                                         1450       0          100.0          %\n"
     ]
    }
   ],
   "source": [
    "# Show statistics by category\n",
    "from collections import defaultdict\n",
    "\n",
    "category_stats = defaultdict(lambda: {'total': 0, 'failed': 0})\n",
    "\n",
    "for rating in ratings:\n",
    "    cat = rating['category']\n",
    "    category_stats[cat]['total'] += 1\n",
    "    if rating['rating'] == -1:\n",
    "        category_stats[cat]['failed'] += 1\n",
    "\n",
    "print(\"\\nStatistics by Category:\")\n",
    "print(f\"{'Category':<45} {'Total':<10} {'Failed':<10} {'Success Rate':<15}\")\n",
    "print(\"=\"*80)\n",
    "\n",
    "for cat in sorted(category_stats.keys()):\n",
    "    stats = category_stats[cat]\n",
    "    success_rate = (stats['total'] - stats['failed']) / stats['total'] * 100\n",
    "    print(f\"{cat:<45} {stats['total']:<10} {stats['failed']:<10} {success_rate:<15.1f}%\")"
   ]
  },
  {
   "cell_type": "code",
   "execution_count": null,
   "metadata": {},
   "outputs": [],
   "source": []
  }
 ],
 "metadata": {
  "kernelspec": {
   "display_name": "Python 3",
   "language": "python",
   "name": "python3"
  },
  "language_info": {
   "codemirror_mode": {
    "name": "ipython",
    "version": 3
   },
   "file_extension": ".py",
   "mimetype": "text/x-python",
   "name": "python",
   "nbconvert_exporter": "python",
   "pygments_lexer": "ipython3",
   "version": "3.9.6"
  }
 },
 "nbformat": 4,
 "nbformat_minor": 2
}
